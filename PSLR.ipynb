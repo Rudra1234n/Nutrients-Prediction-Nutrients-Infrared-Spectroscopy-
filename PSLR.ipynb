{
  "nbformat": 4,
  "nbformat_minor": 0,
  "metadata": {
    "colab": {
      "provenance": []
    },
    "kernelspec": {
      "display_name": "Python 3",
      "language": "python",
      "name": "python3"
    },
    "language_info": {
      "codemirror_mode": {
        "name": "ipython",
        "version": 3
      },
      "file_extension": ".py",
      "mimetype": "text/x-python",
      "name": "python",
      "nbconvert_exporter": "python",
      "pygments_lexer": "ipython3",
      "version": "3.6.3"
    }
  },
  "cells": [
    {
      "cell_type": "code",
      "metadata": {
        "colab": {
          "base_uri": "https://localhost:8080/",
          "height": 328
        },
        "collapsed": true,
        "id": "FHwj5RQMz__o",
        "outputId": "ff84c803-0116-42fc-f533-c0fd71f2c798"
      },
      "source": [
        "from google.colab import drive\n",
        "drive.mount('/content/drive')"
      ],
      "execution_count": null,
      "outputs": [
        {
          "output_type": "error",
          "ename": "MessageError",
          "evalue": "ignored",
          "traceback": [
            "\u001b[0;31m---------------------------------------------------------------------------\u001b[0m",
            "\u001b[0;31mMessageError\u001b[0m                              Traceback (most recent call last)",
            "\u001b[0;32m<ipython-input-1-d5df0069828e>\u001b[0m in \u001b[0;36m<module>\u001b[0;34m()\u001b[0m\n\u001b[1;32m      1\u001b[0m \u001b[0;32mfrom\u001b[0m \u001b[0mgoogle\u001b[0m\u001b[0;34m.\u001b[0m\u001b[0mcolab\u001b[0m \u001b[0;32mimport\u001b[0m \u001b[0mdrive\u001b[0m\u001b[0;34m\u001b[0m\u001b[0;34m\u001b[0m\u001b[0m\n\u001b[0;32m----> 2\u001b[0;31m \u001b[0mdrive\u001b[0m\u001b[0;34m.\u001b[0m\u001b[0mmount\u001b[0m\u001b[0;34m(\u001b[0m\u001b[0;34m'/content/drive'\u001b[0m\u001b[0;34m)\u001b[0m\u001b[0;34m\u001b[0m\u001b[0;34m\u001b[0m\u001b[0m\n\u001b[0m",
            "\u001b[0;32m/usr/local/lib/python3.7/dist-packages/google/colab/drive.py\u001b[0m in \u001b[0;36mmount\u001b[0;34m(mountpoint, force_remount, timeout_ms, use_metadata_server)\u001b[0m\n\u001b[1;32m    113\u001b[0m       \u001b[0mforce_remount\u001b[0m\u001b[0;34m=\u001b[0m\u001b[0mforce_remount\u001b[0m\u001b[0;34m,\u001b[0m\u001b[0;34m\u001b[0m\u001b[0;34m\u001b[0m\u001b[0m\n\u001b[1;32m    114\u001b[0m       \u001b[0mtimeout_ms\u001b[0m\u001b[0;34m=\u001b[0m\u001b[0mtimeout_ms\u001b[0m\u001b[0;34m,\u001b[0m\u001b[0;34m\u001b[0m\u001b[0;34m\u001b[0m\u001b[0m\n\u001b[0;32m--> 115\u001b[0;31m       ephemeral=True)\n\u001b[0m\u001b[1;32m    116\u001b[0m \u001b[0;34m\u001b[0m\u001b[0m\n\u001b[1;32m    117\u001b[0m \u001b[0;34m\u001b[0m\u001b[0m\n",
            "\u001b[0;32m/usr/local/lib/python3.7/dist-packages/google/colab/drive.py\u001b[0m in \u001b[0;36m_mount\u001b[0;34m(mountpoint, force_remount, timeout_ms, use_metadata_server, ephemeral)\u001b[0m\n\u001b[1;32m    133\u001b[0m   \u001b[0;32mif\u001b[0m \u001b[0mephemeral\u001b[0m\u001b[0;34m:\u001b[0m\u001b[0;34m\u001b[0m\u001b[0;34m\u001b[0m\u001b[0m\n\u001b[1;32m    134\u001b[0m     _message.blocking_request(\n\u001b[0;32m--> 135\u001b[0;31m         'request_auth', request={'authType': 'dfs_ephemeral'}, timeout_sec=None)\n\u001b[0m\u001b[1;32m    136\u001b[0m \u001b[0;34m\u001b[0m\u001b[0m\n\u001b[1;32m    137\u001b[0m   \u001b[0mmountpoint\u001b[0m \u001b[0;34m=\u001b[0m \u001b[0m_os\u001b[0m\u001b[0;34m.\u001b[0m\u001b[0mpath\u001b[0m\u001b[0;34m.\u001b[0m\u001b[0mexpanduser\u001b[0m\u001b[0;34m(\u001b[0m\u001b[0mmountpoint\u001b[0m\u001b[0;34m)\u001b[0m\u001b[0;34m\u001b[0m\u001b[0;34m\u001b[0m\u001b[0m\n",
            "\u001b[0;32m/usr/local/lib/python3.7/dist-packages/google/colab/_message.py\u001b[0m in \u001b[0;36mblocking_request\u001b[0;34m(request_type, request, timeout_sec, parent)\u001b[0m\n\u001b[1;32m    173\u001b[0m   request_id = send_request(\n\u001b[1;32m    174\u001b[0m       request_type, request, parent=parent, expect_reply=True)\n\u001b[0;32m--> 175\u001b[0;31m   \u001b[0;32mreturn\u001b[0m \u001b[0mread_reply_from_input\u001b[0m\u001b[0;34m(\u001b[0m\u001b[0mrequest_id\u001b[0m\u001b[0;34m,\u001b[0m \u001b[0mtimeout_sec\u001b[0m\u001b[0;34m)\u001b[0m\u001b[0;34m\u001b[0m\u001b[0;34m\u001b[0m\u001b[0m\n\u001b[0m",
            "\u001b[0;32m/usr/local/lib/python3.7/dist-packages/google/colab/_message.py\u001b[0m in \u001b[0;36mread_reply_from_input\u001b[0;34m(message_id, timeout_sec)\u001b[0m\n\u001b[1;32m    104\u001b[0m         reply.get('colab_msg_id') == message_id):\n\u001b[1;32m    105\u001b[0m       \u001b[0;32mif\u001b[0m \u001b[0;34m'error'\u001b[0m \u001b[0;32min\u001b[0m \u001b[0mreply\u001b[0m\u001b[0;34m:\u001b[0m\u001b[0;34m\u001b[0m\u001b[0;34m\u001b[0m\u001b[0m\n\u001b[0;32m--> 106\u001b[0;31m         \u001b[0;32mraise\u001b[0m \u001b[0mMessageError\u001b[0m\u001b[0;34m(\u001b[0m\u001b[0mreply\u001b[0m\u001b[0;34m[\u001b[0m\u001b[0;34m'error'\u001b[0m\u001b[0;34m]\u001b[0m\u001b[0;34m)\u001b[0m\u001b[0;34m\u001b[0m\u001b[0;34m\u001b[0m\u001b[0m\n\u001b[0m\u001b[1;32m    107\u001b[0m       \u001b[0;32mreturn\u001b[0m \u001b[0mreply\u001b[0m\u001b[0;34m.\u001b[0m\u001b[0mget\u001b[0m\u001b[0;34m(\u001b[0m\u001b[0;34m'data'\u001b[0m\u001b[0;34m,\u001b[0m \u001b[0;32mNone\u001b[0m\u001b[0;34m)\u001b[0m\u001b[0;34m\u001b[0m\u001b[0;34m\u001b[0m\u001b[0m\n\u001b[1;32m    108\u001b[0m \u001b[0;34m\u001b[0m\u001b[0m\n",
            "\u001b[0;31mMessageError\u001b[0m: Error: credential propagation was unsuccessful"
          ]
        }
      ]
    },
    {
      "cell_type": "code",
      "metadata": {
        "colab": {
          "base_uri": "https://localhost:8080/"
        },
        "id": "wMjm9kj515IL",
        "outputId": "b53acc23-cc79-4d9e-ee4c-9f776f2c4866"
      },
      "source": [
        "cd /content/drive/MyDrive/faisal_exp"
      ],
      "execution_count": null,
      "outputs": [
        {
          "output_type": "stream",
          "text": [
            "/content/drive/MyDrive/faisal_exp\n"
          ],
          "name": "stdout"
        }
      ]
    },
    {
      "cell_type": "code",
      "metadata": {
        "id": "jtWCHm-MQwft"
      },
      "source": [
        "import numpy as np\n",
        "from matplotlib import pyplot as plt"
      ],
      "execution_count": null,
      "outputs": []
    },
    {
      "cell_type": "code",
      "metadata": {
        "colab": {
          "base_uri": "https://localhost:8080/"
        },
        "id": "Uuf_dFv-2cTY",
        "outputId": "b498d30d-2d31-480d-94ea-14b017dd6fa6"
      },
      "source": [
        "import pandas as pd\n",
        "import numpy as np\n",
        "X = pd.read_excel (r'/content/drive/MyDrive/faisal_exp/nir_specto.xlsx',header=None)\n",
        "X = X.iloc[:,1:580] \n",
        "X=X[1:58]\n",
        "X=np.array(X)\n",
        "print(X.shape)\n"
      ],
      "execution_count": null,
      "outputs": [
        {
          "output_type": "stream",
          "text": [
            "(57, 579)\n"
          ],
          "name": "stdout"
        }
      ]
    },
    {
      "cell_type": "code",
      "metadata": {
        "colab": {
          "base_uri": "https://localhost:8080/"
        },
        "id": "OZeFfPBOGEvx",
        "outputId": "46b41a73-ef3b-4f44-d5ae-d9fd485bcdeb"
      },
      "source": [
        "import pandas as pd\n",
        "Y_p = pd.read_excel (r'/content/drive/MyDrive/faisal_exp/lab(%).xlsx')\n",
        "Y_p = Y_p.iloc[:,1:8]\n",
        "#Y_p = Y_p.iloc[:,2]\n",
        "Y_p=np.array(Y_p)\n",
        "print (Y_p.shape)\n"
      ],
      "execution_count": null,
      "outputs": [
        {
          "output_type": "stream",
          "text": [
            "(57, 7)\n"
          ],
          "name": "stdout"
        }
      ]
    },
    {
      "cell_type": "code",
      "metadata": {
        "colab": {
          "base_uri": "https://localhost:8080/"
        },
        "id": "bTRIIYEAzEbp",
        "outputId": "7a81d6cc-7215-4491-827b-d61febe6ed01"
      },
      "source": [
        "import pandas as pd\n",
        "Y_c = pd.read_excel (r'/content/drive/MyDrive/faisal_exp/lab(content).xlsx')\n",
        "Y_c = Y_c.iloc[:,2:9]\n",
        "#Y_c = Y_c.iloc[:,2]\n",
        "Y_c=np.array(Y_c)\n",
        "print (Y_c.shape)\n",
        "\n"
      ],
      "execution_count": null,
      "outputs": [
        {
          "output_type": "stream",
          "text": [
            "(57, 7)\n"
          ],
          "name": "stdout"
        }
      ]
    },
    {
      "cell_type": "code",
      "metadata": {
        "id": "2-k_MqdlOtHO"
      },
      "source": [
        "#Expand dataset, Function also available in ChemUtils\n",
        "def dataaugment(x, betashift = 0.05, slopeshift = 0.05,multishift = 0.05):\n",
        "    #Shift of baseline\n",
        "    #calculate arrays\n",
        "    beta = np.random.random(size=(x.shape[0],1))*2*betashift-betashift\n",
        "    slope = np.random.random(size=(x.shape[0],1))*2*slopeshift-slopeshift + 1\n",
        "    #Calculate relative position\n",
        "    axis = np.array(range(x.shape[1]))/float(x.shape[1])\n",
        "    #Calculate offset to be added\n",
        "    offset = slope*(axis) + beta - axis - slope/2. + 0.5\n",
        "\n",
        "    #Multiplicative\n",
        "    multi = np.random.random(size=(x.shape[0],1))*2*multishift-multishift + 1\n",
        "\n",
        "    x = multi*x + offset\n",
        "\n",
        "    return x"
      ],
      "execution_count": null,
      "outputs": []
    },
    {
      "cell_type": "code",
      "metadata": {
        "id": "Hr8oIvRODgC2"
      },
      "source": [
        "np.random.seed(0)"
      ],
      "execution_count": null,
      "outputs": []
    },
    {
      "cell_type": "code",
      "metadata": {
        "colab": {
          "base_uri": "https://localhost:8080/",
          "height": 265
        },
        "id": "T6kxa-iSO03P",
        "outputId": "d4fa0e35-32f8-4501-da13-1048da70e397"
      },
      "source": [
        "#Data Augment a single spectrum\n",
        "import numpy as np\n",
        "from matplotlib import pyplot as plt\n",
        "#First Spectrum\n",
        "X_one = X[0:1]\n",
        "#Repeating the spectrum 10x\n",
        "X_one = np.repeat(X_one, repeats=10, axis=0)\n",
        "#Augment (Large pertubations for illustration)\n",
        "X_aug = dataaugment(X_one,betashift = 6.542472601263714e-05, slopeshift = 0.0005,multishift = 6.542472601263714e-05)\n",
        "    \n",
        "plt.plot(X_aug.T)\n",
        "_= plt.plot(X_one.T, lw=1, c='b')"
      ],
      "execution_count": null,
      "outputs": [
        {
          "output_type": "display_data",
          "data": {
            "image/png": "[encoded data removed]",
            "text/plain": [
              "<Figure size 432x288 with 1 Axes>"
            ]
          },
          "metadata": {
            "tags": [],
            "needs_background": "light"
          }
        }
      ]
    },
    {
      "cell_type": "code",
      "metadata": {
        "colab": {
          "base_uri": "https://localhost:8080/"
        },
        "id": "j6W3-dHzQl4V",
        "outputId": "42c0048a-9912-4d97-d2af-8faee8f5199b"
      },
      "source": [
        "shift = np.std(X)*0.1\n",
        "shift"
      ],
      "execution_count": null,
      "outputs": [
        {
          "output_type": "execute_result",
          "data": {
            "text/plain": [
              "6.542472601263714e-05"
            ]
          },
          "metadata": {
            "tags": []
          },
          "execution_count": 93
        }
      ]
    },
    {
      "cell_type": "code",
      "metadata": {
        "id": "RkFukfJ2PHee",
        "colab": {
          "base_uri": "https://localhost:8080/",
          "height": 299
        },
        "outputId": "73fe1ced-0253-491b-a259-91a4539d3cd3"
      },
      "source": [
        "X_train_aug = np.repeat(X, repeats=3, axis=0)\n",
        "X_train_aug = dataaugment(X_train_aug, betashift = shift, slopeshift = 0.0005, multishift = shift)\n",
        "# = s = np.random.normal(Y_mean, Y_std, 171)\n",
        "y_train_aug = np.repeat(Y_c, repeats=3, axis=0) #y_train is simply repeated\n",
        "#X_test_aug = np.repeat(X_test, repeats=10, axis=0)\n",
        "#X_test_aug = dataaugment(X_test_aug, betashift = shift, slopeshift = 0.05, multishift = shift)\n",
        "\n",
        "#y_test_aug = np.repeat(y_test, repeats=10, axis=0) #y_train is simply repeated\n",
        "\n",
        "\n",
        "print (len(X_train_aug))\n",
        "print (len(y_train_aug))\n",
        "_ = plt.plot(X_train_aug[0:100].T)"
      ],
      "execution_count": null,
      "outputs": [
        {
          "output_type": "stream",
          "text": [
            "171\n",
            "171\n"
          ],
          "name": "stdout"
        },
        {
          "output_type": "display_data",
          "data": {
            "image/png": "[encoded data removed]",
            "text/plain": [
              "<Figure size 432x288 with 1 Axes>"
            ]
          },
          "metadata": {
            "tags": [],
            "needs_background": "light"
          }
        }
      ]
    },
    {
      "cell_type": "code",
      "metadata": {
        "colab": {
          "base_uri": "https://localhost:8080/"
        },
        "id": "FaPZVYt9XQDb",
        "outputId": "47611375-c112-4de5-dca1-04c4e9d32a2c"
      },
      "source": [
        "# Split the data into training and testing set\n",
        "from sklearn.model_selection import train_test_split\n",
        "X_train, X_test, y_train, y_test = train_test_split(X_train_aug, y_train_aug, test_size=0.30, random_state=42)\n",
        " \n",
        "# Quick sanity check with the shapes of Training and testing datasets\n",
        "print(X_train.shape)\n",
        "print(y_train.shape)\n",
        "print(X_test.shape)\n",
        "print(y_test.shape)"
      ],
      "execution_count": null,
      "outputs": [
        {
          "output_type": "stream",
          "text": [
            "(119, 579)\n",
            "(119, 7)\n",
            "(52, 579)\n",
            "(52, 7)\n"
          ],
          "name": "stdout"
        }
      ]
    },
    {
      "cell_type": "code",
      "metadata": {
        "id": "Txwjc6DeK3B8"
      },
      "source": [
        "# data normalization with sklearn\n",
        "from sklearn.preprocessing import MinMaxScaler\n",
        "\n",
        "# fit scaler on training data\n",
        "norm = MinMaxScaler().fit(X_train)\n",
        "# fit scaler on training data\n",
        "norm_lab = MinMaxScaler().fit(y_train)\n",
        "\n",
        "# transform training data\n",
        "X_train_norm = norm.transform(X_train)\n",
        "\n",
        "# transform testing dataabs\n",
        "X_test_norm = norm.transform(X_test)\n",
        "# transform training label\n",
        "Y_train_norm = norm_lab.transform(y_train)\n",
        "\n",
        "# transform testing label\n",
        "Y_test_norm = norm_lab.transform(y_test)"
      ],
      "execution_count": null,
      "outputs": []
    },
    {
      "cell_type": "code",
      "metadata": {
        "id": "kTC5miJFUObU"
      },
      "source": [
        "#Rescale to NN friendly number range\n",
        "from ChemUtils import GlobalStandardScaler\n",
        "\n",
        "xscaler = GlobalStandardScaler()\n",
        "\n",
        "#Calibrate is smaler than test, so they are swapped\n",
        "X_train = xscaler.fit_transform(X_train) #From instrument 1\n",
        "X_test=xscaler.transform(X_test)"
      ],
      "execution_count": null,
      "outputs": []
    },
    {
      "cell_type": "code",
      "metadata": {
        "id": "qRVhMD5LUVek"
      },
      "source": [
        "yscaler = GlobalStandardScaler()\n",
        "y_train = yscaler.fit_transform( y_train)\n",
        "y_test = yscaler.transform( y_test)  "
      ],
      "execution_count": null,
      "outputs": []
    },
    {
      "cell_type": "code",
      "metadata": {
        "colab": {
          "base_uri": "https://localhost:8080/"
        },
        "id": "9WKfL4CB_k8Q",
        "outputId": "2bb8b14d-faf9-4679-f20f-64fd244bded7"
      },
      "source": [
        "from sklearn.cross_decomposition import PLSRegression\n",
        "pls2 = PLSRegression(n_components=60)\n",
        "pls2.fit(X_train_norm, Y_train_norm)"
      ],
      "execution_count": null,
      "outputs": [
        {
          "output_type": "stream",
          "text": [
            "/usr/local/lib/python3.7/dist-packages/sklearn/cross_decomposition/_pls.py:351: UserWarning: X scores are null at iteration 58\n",
            "  warnings.warn('X scores are null at iteration %s' % k)\n"
          ],
          "name": "stderr"
        },
        {
          "output_type": "execute_result",
          "data": {
            "text/plain": [
              "PLSRegression(copy=True, max_iter=500, n_components=60, scale=True, tol=1e-06)"
            ]
          },
          "metadata": {
            "tags": []
          },
          "execution_count": 97
        }
      ]
    },
    {
      "cell_type": "code",
      "metadata": {
        "colab": {
          "base_uri": "https://localhost:8080/"
        },
        "id": "mWsblieDfT9b",
        "outputId": "5482d5f2-309f-4840-9866-d09c548bf295"
      },
      "source": [
        "from sklearn.metrics import r2_score\n",
        "print(r2_score(Y_test_norm, pls2.predict(X_test_norm), multioutput='raw_values'))\n",
        "print(r2_score(Y_train_norm, pls2.predict(X_train_norm),multioutput='raw_values'))"
      ],
      "execution_count": null,
      "outputs": [
        {
          "output_type": "stream",
          "text": [
            "[0.90046234 0.64814018 0.89055851 0.79908009 0.9795355  0.86330401\n",
            " 0.99960523]\n",
            "[1. 1. 1. 1. 1. 1. 1.]\n"
          ],
          "name": "stdout"
        }
      ]
    },
    {
      "cell_type": "code",
      "metadata": {
        "id": "1N9Bq8DXgLy0"
      },
      "source": [
        "y_train=norm_lab.inverse_transform(Y_train_norm)\n",
        "y_test=norm_lab.inverse_transform(Y_test_norm)\n",
        "y_pred1_train=pls2.predict(X_train_norm)\n",
        "y_pred_train=norm_lab.inverse_transform(y_pred1_train)\n",
        "y_pred1_test=pls2.predict(X_test_norm)\n",
        "y_pred_test=norm_lab.inverse_transform(y_pred1_test)"
      ],
      "execution_count": null,
      "outputs": []
    },
    {
      "cell_type": "code",
      "metadata": {
        "colab": {
          "base_uri": "https://localhost:8080/"
        },
        "id": "sR4slKKYgjBR",
        "outputId": "a82f27be-ae90-4d0c-80db-0cb25b857202"
      },
      "source": [
        "from sklearn.metrics import mean_squared_error\n",
        "print(np.sqrt(mean_squared_error(y_test,y_pred_test ,multioutput='raw_values')))"
      ],
      "execution_count": null,
      "outputs": [
        {
          "output_type": "stream",
          "text": [
            "[0.55507266 0.95470006 0.29729283 1.3890754  0.57778623 0.81119204\n",
            " 0.40574441]\n"
          ],
          "name": "stdout"
        }
      ]
    },
    {
      "cell_type": "code",
      "metadata": {
        "colab": {
          "base_uri": "https://localhost:8080/"
        },
        "id": "Y_TEUis0La06",
        "outputId": "5ec9e028-15fa-4105-88d7-d1b8101770d6"
      },
      "source": [
        "rmse_t=np.sqrt(mean_squared_error(y_train,y_pred_train ,multioutput='raw_values')) \n",
        "res = rmse_t.astype(np.float)\n",
        "print(res)"
      ],
      "execution_count": null,
      "outputs": [
        {
          "output_type": "stream",
          "text": [
            "[2.00162034e-04 5.31849235e-05 2.76017731e-05 8.27862580e-05\n",
            " 5.03477216e-05 7.81216353e-05 3.73014194e-05]\n"
          ],
          "name": "stdout"
        }
      ]
    },
    {
      "cell_type": "code",
      "metadata": {
        "colab": {
          "base_uri": "https://localhost:8080/"
        },
        "id": "CDyq8kvr2JJ6",
        "outputId": "bb342f60-08d4-4d24-ef09-6f13fb39865b"
      },
      "source": [
        "j=y_pred_test[:,0]\n",
        "j"
      ],
      "execution_count": null,
      "outputs": [
        {
          "output_type": "execute_result",
          "data": {
            "text/plain": [
              "array([77.6014358 , 81.81962608, 81.81975221, 83.11432878, 80.24502469,\n",
              "       79.27952789, 82.95724851, 81.01513038, 80.67876327, 80.67870945,\n",
              "       80.5555448 , 82.95756119, 82.09998053, 85.56711983, 76.27227782,\n",
              "       82.0611536 , 82.45045074, 78.6355446 , 83.11446476, 76.95408656,\n",
              "       84.17024455, 79.30604356, 82.39849199, 85.56667313, 83.58713013,\n",
              "       82.39787706, 82.53561339, 73.6677183 , 78.69296591, 74.10908526,\n",
              "       78.63560141, 76.16299907, 79.56939043, 74.46686206, 76.78199086,\n",
              "       77.60144377, 74.46696281, 83.87765007, 81.32648348, 78.83113005,\n",
              "       74.10871355, 76.65838414, 82.9575451 , 83.58743218, 76.95409918,\n",
              "       82.14762282, 82.07047795, 78.5584319 , 78.05054237, 79.20753642,\n",
              "       78.37854798, 86.47227216])"
            ]
          },
          "metadata": {
            "tags": []
          },
          "execution_count": 49
        }
      ]
    },
    {
      "cell_type": "code",
      "metadata": {
        "colab": {
          "base_uri": "https://localhost:8080/",
          "height": 279
        },
        "id": "zf0XTTCYgK21",
        "outputId": "454805f3-a9e9-43dd-a823-37a3622818e7"
      },
      "source": [
        "fig = plt.figure(figsize=(6, 4))\n",
        "plt.xlabel(\"Protein measured (mg/100 mg)\") \n",
        "plt.ylabel(\"Protein predicted (mg/100 mg)\") \n",
        "plt.scatter(y_train[:,0],y_pred_train[:,0])\n",
        "plt.scatter(y_test[:,0], y_pred_test[:,0])\n",
        "plt.legend([\"Training samples\", \"Testing samples\"], loc =\"upper left\") \n",
        "plt.plot([15,40],[15,40])  \n",
        "plt.savefig('protein.pdf',bbox_inches='tight')"
      ],
      "execution_count": null,
      "outputs": [
        {
          "output_type": "display_data",
          "data": {
            "image/png": "[encoded data removed]",
            "text/plain": [
              "<Figure size 432x288 with 1 Axes>"
            ]
          },
          "metadata": {
            "tags": [],
            "needs_background": "light"
          }
        }
      ]
    },
    {
      "cell_type": "code",
      "metadata": {
        "id": "X4o5FGmggmUQ"
      },
      "source": [
        "#Some metrics\n",
        "def huber(y_true, y_pred, delta=1.0):\n",
        "\ty_true = y_true.reshape(-1,1)\n",
        "\ty_pred = y_pred.reshape(-1,1)\n",
        "\treturn np.mean(delta**2*( (1+((y_true-y_pred)/delta)**2)**0.5 -1))"
      ],
      "execution_count": null,
      "outputs": []
    },
    {
      "cell_type": "code",
      "metadata": {
        "id": "UOJGjOEPgp95"
      },
      "source": [
        "def benchmark(X_train,y_train,X_test, y_test, model):\n",
        "    rmse = np.mean((y_train - pls2.predict(X_train).reshape(y_train.shape))**2)**0.5\n",
        "    rmse_test = np.mean((y_test - pls2.predict(X_test).reshape(y_test.shape))**2)**0.5\n",
        "    hub = huber(y_train, pls2.predict(X_train))\n",
        "    hub_test = huber(y_test, pls2.predict(X_test))\n",
        "    print (\"RMSE  Train/Test\\t%0.2F\\t%0.2F\"%(rmse, rmse_test))\n",
        "    print (\"Huber Train/Test\\t%0.4F\\t%0.4F\"%(hub, hub_test))"
      ],
      "execution_count": null,
      "outputs": []
    },
    {
      "cell_type": "code",
      "metadata": {
        "colab": {
          "base_uri": "https://localhost:8080/"
        },
        "id": "EQD2_rHQg253",
        "outputId": "dc8abe9a-e306-4f31-c8c3-5d933ad613bd"
      },
      "source": [
        "benchmark(X_train, y_train, X_test, y_test, pls2)"
      ],
      "execution_count": null,
      "outputs": [
        {
          "output_type": "stream",
          "text": [
            "RMSE  Train/Test\t11.66\t11.89\n",
            "Huber Train/Test\t7.4175\t7.5767\n"
          ],
          "name": "stdout"
        }
      ]
    }
  ]
}